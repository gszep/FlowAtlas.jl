{
 "cells": [
  {
   "cell_type": "code",
   "execution_count": 1,
   "metadata": {},
   "outputs": [
    {
     "data": {
      "image/png": "[encoded data removed]",
      "text/plain": [
       "<Figure size 432x432 with 1 Axes>"
      ]
     },
     "metadata": {},
     "output_type": "display_data"
    }
   ],
   "source": [
    "from xml.etree.cElementTree import ElementTree\n",
    "from networkx import MultiGraph,draw,draw_networkx_edges\n",
    "\n",
    "from matplotlib.pyplot import figure\n",
    "from networkx.drawing.nx_pydot import graphviz_layout\n",
    "\n",
    "class GatingSchema(object):\n",
    "    \"\"\"Parses GatingML documents to networkx objects\"\"\"\n",
    "    \n",
    "    namespaces = {\n",
    "        \"xsi\" : \"http://www.w3.org/2001/XMLSchema-instance\",\n",
    "        \"gating\" : \"http://www.isac-net.org/std/Gating-ML/v2.0/gating\",\n",
    "        \"transformations\" : \"http://www.isac-net.org/std/Gating-ML/v2.0/transformations\",\n",
    "        \"datatypes\" : \"http://www.isac-net.org/std/Gating-ML/v2.0/datatypes\"\n",
    "    }\n",
    "\n",
    "    def __init__(self, path=str):\n",
    "        \n",
    "        self.graph = MultiGraph()\n",
    "        for gate in ElementTree(file=path).getroot() :\n",
    "            \n",
    "            id = gate.get(\"{%s}id\" % self.namespaces['gating'])\n",
    "            parent_id = gate.get(\"{%s}parent_id\" % self.namespaces['gating'])\n",
    "            \n",
    "            channels = []\n",
    "            for dimension in gate.findall('gating:dimension/datatypes:fcs-dimension',self.namespaces) :\n",
    "                channels.append( dimension.get(\"{%s}name\" % self.namespaces['datatypes']) )\n",
    "\n",
    "            self.graph.add_node( id, parent_id=parent_id, channels=channels )\n",
    "            if parent_id is not None :\n",
    "                self.graph.add_edge(parent_id,id)\n",
    "                \n",
    "                \n",
    "    def show(self):\n",
    "\n",
    "        positions = graphviz_layout(self.graph,prog='dot')\n",
    "\n",
    "        figure(figsize=(6,6))\n",
    "        draw(self.graph, positions, node_size=100,\n",
    "                node_color='w',edgecolors='k',linewidths=3)\n",
    "\n",
    "        draw_networkx_edges(self.graph, positions, \n",
    "                edge_color='r', width=5, arrowsize=1);\n",
    "\n",
    "\n",
    "gating = GatingSchema('140119_T+B_VR.gates.xml')\n",
    "gating.show()"
   ]
  },
  {
   "cell_type": "code",
   "execution_count": 4,
   "metadata": {},
   "outputs": [],
   "source": [
    "from ete3 import Tree, TreeStyle\n",
    "G = gating.graph\n",
    "\n",
    "root = list(G.nodes())[0]\n",
    "subtrees = {node:Tree(name=node) for node in G.nodes()}\n",
    "[*map(lambda edge:subtrees[edge[0]].add_child(subtrees[edge[1]]), G.edges())]\n",
    "tree = subtrees[root]"
   ]
  },
  {
   "cell_type": "code",
   "execution_count": 5,
   "metadata": {},
   "outputs": [],
   "source": [
    "ts = TreeStyle()\n",
    "ts.show_leaf_name = True\n",
    "ts.rotation = 90"
   ]
  },
  {
   "cell_type": "code",
   "execution_count": null,
   "metadata": {},
   "outputs": [],
   "source": [
    "tree.show(tree_style=ts)"
   ]
  },
  {
   "cell_type": "code",
   "execution_count": null,
   "metadata": {},
   "outputs": [],
   "source": [
    "from ete3 import Tree, TreeStyle\n",
    "t = Tree()\n",
    "t.populate(10)\n",
    "ts = TreeStyle()\n",
    "ts.show_leaf_name = True\n",
    "ts.rotation = 90\n",
    "t.show(tree_style=ts)"
   ]
  },
  {
   "cell_type": "code",
   "execution_count": null,
   "metadata": {},
   "outputs": [],
   "source": [
    "print(tree.get_ascii())"
   ]
  },
  {
   "cell_type": "code",
   "execution_count": null,
   "metadata": {},
   "outputs": [],
   "source": []
  }
 ],
 "metadata": {
  "kernelspec": {
   "display_name": "Python 3",
   "language": "python",
   "name": "python3"
  },
  "language_info": {
   "codemirror_mode": {
    "name": "ipython",
    "version": 3
   },
   "file_extension": ".py",
   "mimetype": "text/x-python",
   "name": "python",
   "nbconvert_exporter": "python",
   "pygments_lexer": "ipython3",
   "version": "3.7.7"
  }
 },
 "nbformat": 4,
 "nbformat_minor": 4
}
